{
 "cells": [
  {
   "cell_type": "code",
   "execution_count": 7,
   "metadata": {},
   "outputs": [],
   "source": [
    "import os\n",
    "import cv2\n",
    "import numpy as np\n",
    "from sklearn.preprocessing import LabelBinarizer\n",
    "from tensorflow.keras.utils import to_categorical\n",
    "from sklearn.model_selection import train_test_split\n",
    "from tensorflow.keras.applications import VGG16\n",
    "from tensorflow.keras.applications import VGG19\n",
    "from tensorflow.keras.applications import ResNet50\n",
    "from tensorflow.keras.layers import Input\n",
    "from tensorflow.keras.layers import AveragePooling2D\n",
    "from tensorflow.keras.layers import Dropout\n",
    "from tensorflow.keras.layers import Flatten\n",
    "from tensorflow.keras.layers import Dense\n",
    "from tensorflow.keras.models import Model\n",
    "from tensorflow.keras.optimizers import Adam\n",
    "from tensorflow.keras.preprocessing.image import ImageDataGenerator\n",
    "from tensorflow.keras.utils import plot_model\n",
    "import matplotlib.pyplot as plt"
   ]
  },
  {
   "cell_type": "code",
   "execution_count": 8,
   "metadata": {},
   "outputs": [],
   "source": [
    "ROOT_DIR = os.getcwd()\n",
    "dataset = os.path.join(ROOT_DIR, \"dataset\")"
   ]
  },
  {
   "cell_type": "code",
   "execution_count": 9,
   "metadata": {},
   "outputs": [],
   "source": [
    "INIT_LR = 1e-3\n",
    "EPOCHS = 25\n",
    "BS = 8"
   ]
  },
  {
   "cell_type": "code",
   "execution_count": 10,
   "metadata": {},
   "outputs": [
    {
     "name": "stdout",
     "output_type": "stream",
     "text": [
      "[INFO] loading images...\n",
      "Number of normal images : 70\n",
      "Number of covid images : 70\n",
      "Number of images : 140\n",
      "labels...\n",
      "140\n"
     ]
    }
   ],
   "source": [
    "print(\"[INFO] loading images...\")\n",
    "#imagePaths = \n",
    "data = []\n",
    "normal = os.path.join(dataset, 'normal')\n",
    "\n",
    "c=0\n",
    "for imgName in os.listdir(normal):\n",
    "    if imgName[0] != '.' and c != 70:\n",
    "        imagePath = os.path.join(normal, imgName)\n",
    "        img = cv2.imread(imagePath)\n",
    "        img = cv2.cvtColor(img, cv2.COLOR_BGR2RGB)\n",
    "        img = cv2.resize(img, (224, 224))\n",
    "        data.append(img)\n",
    "        c+=1\n",
    "\n",
    "print('Number of normal images :', len(data))\n",
    "\n",
    "covid = os.path.join(dataset, 'covid')\n",
    "\n",
    "for imgName in os.listdir(covid):\n",
    "    if imgName[0] != '.':\n",
    "        imagePath = os.path.join(covid, imgName)\n",
    "        img = cv2.imread(imagePath)\n",
    "        img = cv2.cvtColor(img, cv2.COLOR_BGR2RGB)\n",
    "        img = cv2.resize(img, (224, 224))\n",
    "        data.append(img)\n",
    "    \n",
    "print('Number of covid images :', len(os.listdir(covid)))\n",
    "print('Number of images :', len(data))\n",
    "\n",
    "labels = ['normal' for name in os.listdir(os.path.join(dataset, 'normal'))] + ['covid' for name in os.listdir(os.path.join(dataset, 'covid'))]\n",
    "print(\"labels...\")\n",
    "print(len(labels))"
   ]
  },
  {
   "cell_type": "code",
   "execution_count": 11,
   "metadata": {},
   "outputs": [],
   "source": [
    "data = np.array(data) / 255.0\n",
    "labels = np.array(labels)"
   ]
  },
  {
   "cell_type": "code",
   "execution_count": 12,
   "metadata": {},
   "outputs": [],
   "source": [
    "lb = LabelBinarizer()\n",
    "labels = lb.fit_transform(labels)\n",
    "labels = to_categorical(labels)"
   ]
  },
  {
   "cell_type": "code",
   "execution_count": 13,
   "metadata": {},
   "outputs": [],
   "source": [
    "(trainX, testX, trainY, testY) = train_test_split(data, labels, test_size=0.20, stratify=labels, random_state=42)"
   ]
  },
  {
   "cell_type": "code",
   "execution_count": 14,
   "metadata": {},
   "outputs": [],
   "source": [
    "trainAug = ImageDataGenerator(\n",
    "            rotation_range=15,\n",
    "            fill_mode=\"nearest\")"
   ]
  },
  {
   "cell_type": "code",
   "execution_count": 15,
   "metadata": {},
   "outputs": [
    {
     "name": "stdout",
     "output_type": "stream",
     "text": [
      "Downloading data from https://storage.googleapis.com/tensorflow/keras-applications/vgg16/vgg16_weights_tf_dim_ordering_tf_kernels_notop.h5\n",
      "58892288/58889256 [==============================] - 15s 0us/step\n"
     ]
    }
   ],
   "source": [
    "baseModel = VGG16(weights=\"imagenet\", include_top=False, input_tensor=Input(shape=(224, 224, 3)))"
   ]
  },
  {
   "cell_type": "code",
   "execution_count": 16,
   "metadata": {},
   "outputs": [],
   "source": [
    "headModel = baseModel.output\n",
    "headModel = AveragePooling2D(pool_size=(4, 4))(headModel)\n",
    "headModel = Flatten(name=\"flatten\")(headModel)\n",
    "headModel = Dense(64, activation=\"relu\")(headModel)\n",
    "headModel = Dropout(0.5)(headModel)\n",
    "headModel = Dense(2, activation=\"softmax\")(headModel)"
   ]
  },
  {
   "cell_type": "code",
   "execution_count": 17,
   "metadata": {},
   "outputs": [],
   "source": [
    "model = Model(inputs=baseModel.input, outputs=headModel)"
   ]
  },
  {
   "cell_type": "code",
   "execution_count": 18,
   "metadata": {},
   "outputs": [],
   "source": [
    "for layer in baseModel.layers:\n",
    "    layer.trainable = False"
   ]
  },
  {
   "cell_type": "code",
   "execution_count": 19,
   "metadata": {},
   "outputs": [
    {
     "name": "stdout",
     "output_type": "stream",
     "text": [
      "[INFO] compiling model...\n"
     ]
    }
   ],
   "source": [
    "print(\"[INFO] compiling model...\")\n",
    "opt = Adam(lr=INIT_LR, decay=INIT_LR / EPOCHS)\n",
    "model.compile(loss=\"binary_crossentropy\", optimizer=opt, metrics=[\"accuracy\"])"
   ]
  },
  {
   "cell_type": "code",
   "execution_count": 20,
   "metadata": {},
   "outputs": [
    {
     "name": "stdout",
     "output_type": "stream",
     "text": [
      "Model: \"model\"\n",
      "_________________________________________________________________\n",
      "Layer (type)                 Output Shape              Param #   \n",
      "=================================================================\n",
      "input_1 (InputLayer)         [(None, 224, 224, 3)]     0         \n",
      "_________________________________________________________________\n",
      "block1_conv1 (Conv2D)        (None, 224, 224, 64)      1792      \n",
      "_________________________________________________________________\n",
      "block1_conv2 (Conv2D)        (None, 224, 224, 64)      36928     \n",
      "_________________________________________________________________\n",
      "block1_pool (MaxPooling2D)   (None, 112, 112, 64)      0         \n",
      "_________________________________________________________________\n",
      "block2_conv1 (Conv2D)        (None, 112, 112, 128)     73856     \n",
      "_________________________________________________________________\n",
      "block2_conv2 (Conv2D)        (None, 112, 112, 128)     147584    \n",
      "_________________________________________________________________\n",
      "block2_pool (MaxPooling2D)   (None, 56, 56, 128)       0         \n",
      "_________________________________________________________________\n",
      "block3_conv1 (Conv2D)        (None, 56, 56, 256)       295168    \n",
      "_________________________________________________________________\n",
      "block3_conv2 (Conv2D)        (None, 56, 56, 256)       590080    \n",
      "_________________________________________________________________\n",
      "block3_conv3 (Conv2D)        (None, 56, 56, 256)       590080    \n",
      "_________________________________________________________________\n",
      "block3_pool (MaxPooling2D)   (None, 28, 28, 256)       0         \n",
      "_________________________________________________________________\n",
      "block4_conv1 (Conv2D)        (None, 28, 28, 512)       1180160   \n",
      "_________________________________________________________________\n",
      "block4_conv2 (Conv2D)        (None, 28, 28, 512)       2359808   \n",
      "_________________________________________________________________\n",
      "block4_conv3 (Conv2D)        (None, 28, 28, 512)       2359808   \n",
      "_________________________________________________________________\n",
      "block4_pool (MaxPooling2D)   (None, 14, 14, 512)       0         \n",
      "_________________________________________________________________\n",
      "block5_conv1 (Conv2D)        (None, 14, 14, 512)       2359808   \n",
      "_________________________________________________________________\n",
      "block5_conv2 (Conv2D)        (None, 14, 14, 512)       2359808   \n",
      "_________________________________________________________________\n",
      "block5_conv3 (Conv2D)        (None, 14, 14, 512)       2359808   \n",
      "_________________________________________________________________\n",
      "block5_pool (MaxPooling2D)   (None, 7, 7, 512)         0         \n",
      "_________________________________________________________________\n",
      "average_pooling2d (AveragePo (None, 1, 1, 512)         0         \n",
      "_________________________________________________________________\n",
      "flatten (Flatten)            (None, 512)               0         \n",
      "_________________________________________________________________\n",
      "dense (Dense)                (None, 64)                32832     \n",
      "_________________________________________________________________\n",
      "dropout (Dropout)            (None, 64)                0         \n",
      "_________________________________________________________________\n",
      "dense_1 (Dense)              (None, 2)                 130       \n",
      "=================================================================\n",
      "Total params: 14,747,650\n",
      "Trainable params: 32,962\n",
      "Non-trainable params: 14,714,688\n",
      "_________________________________________________________________\n"
     ]
    }
   ],
   "source": [
    "model.summary()"
   ]
  },
  {
   "cell_type": "code",
   "execution_count": 21,
   "metadata": {},
   "outputs": [
    {
     "name": "stdout",
     "output_type": "stream",
     "text": [
      "Failed to import pydot. You must install pydot and graphviz for `pydotprint` to work.\n"
     ]
    }
   ],
   "source": [
    "plot_model(model, to_file='model_plot.png', show_shapes=True, show_layer_names=True)"
   ]
  },
  {
   "cell_type": "code",
   "execution_count": 22,
   "metadata": {},
   "outputs": [
    {
     "name": "stdout",
     "output_type": "stream",
     "text": [
      "[INFO] training head...\n",
      "WARNING:tensorflow:From <ipython-input-22-9b03a2d41ea6>:6: Model.fit_generator (from tensorflow.python.keras.engine.training) is deprecated and will be removed in a future version.\n",
      "Instructions for updating:\n",
      "Please use Model.fit, which supports generators.\n",
      "Epoch 1/25\n",
      "14/14 [==============================] - 15s 1s/step - loss: 0.7645 - accuracy: 0.5536 - val_loss: 0.7459 - val_accuracy: 0.5000\n",
      "Epoch 2/25\n",
      "14/14 [==============================] - 14s 1s/step - loss: 0.6982 - accuracy: 0.6071 - val_loss: 0.5979 - val_accuracy: 0.7857\n",
      "Epoch 3/25\n",
      "14/14 [==============================] - 14s 1s/step - loss: 0.6252 - accuracy: 0.6429 - val_loss: 0.5819 - val_accuracy: 0.6786\n",
      "Epoch 4/25\n",
      "14/14 [==============================] - 16s 1s/step - loss: 0.5781 - accuracy: 0.7054 - val_loss: 0.5292 - val_accuracy: 0.8571\n",
      "Epoch 5/25\n",
      "14/14 [==============================] - 16s 1s/step - loss: 0.4847 - accuracy: 0.8304 - val_loss: 0.5019 - val_accuracy: 0.8571\n",
      "Epoch 6/25\n",
      "14/14 [==============================] - 15s 1s/step - loss: 0.4589 - accuracy: 0.8304 - val_loss: 0.4582 - val_accuracy: 0.8929\n",
      "Epoch 7/25\n",
      "14/14 [==============================] - 16s 1s/step - loss: 0.4072 - accuracy: 0.9018 - val_loss: 0.4444 - val_accuracy: 0.8571\n",
      "Epoch 8/25\n",
      "14/14 [==============================] - 16s 1s/step - loss: 0.4035 - accuracy: 0.8571 - val_loss: 0.3962 - val_accuracy: 0.9643\n",
      "Epoch 9/25\n",
      "14/14 [==============================] - 17s 1s/step - loss: 0.3382 - accuracy: 0.9464 - val_loss: 0.3890 - val_accuracy: 0.8571\n",
      "Epoch 10/25\n",
      "14/14 [==============================] - 16s 1s/step - loss: 0.3432 - accuracy: 0.8929 - val_loss: 0.3450 - val_accuracy: 0.9286\n",
      "Epoch 11/25\n",
      "14/14 [==============================] - 15s 1s/step - loss: 0.3272 - accuracy: 0.9196 - val_loss: 0.3185 - val_accuracy: 0.9286\n",
      "Epoch 12/25\n",
      "14/14 [==============================] - 15s 1s/step - loss: 0.3162 - accuracy: 0.8750 - val_loss: 0.2955 - val_accuracy: 0.9286\n",
      "Epoch 13/25\n",
      "14/14 [==============================] - 16s 1s/step - loss: 0.2891 - accuracy: 0.9107 - val_loss: 0.2822 - val_accuracy: 0.9286\n",
      "Epoch 14/25\n",
      "14/14 [==============================] - 15s 1s/step - loss: 0.2765 - accuracy: 0.9464 - val_loss: 0.2840 - val_accuracy: 0.9286\n",
      "Epoch 15/25\n",
      "14/14 [==============================] - 15s 1s/step - loss: 0.2130 - accuracy: 0.9643 - val_loss: 0.2641 - val_accuracy: 0.9286\n",
      "Epoch 16/25\n",
      "14/14 [==============================] - 16s 1s/step - loss: 0.2451 - accuracy: 0.9375 - val_loss: 0.2387 - val_accuracy: 0.9286\n",
      "Epoch 17/25\n",
      "14/14 [==============================] - 15s 1s/step - loss: 0.2257 - accuracy: 0.9732 - val_loss: 0.2474 - val_accuracy: 0.9286\n",
      "Epoch 18/25\n",
      "14/14 [==============================] - 16s 1s/step - loss: 0.2082 - accuracy: 0.9286 - val_loss: 0.2380 - val_accuracy: 0.9286\n",
      "Epoch 19/25\n",
      "14/14 [==============================] - 17s 1s/step - loss: 0.1837 - accuracy: 0.9643 - val_loss: 0.2153 - val_accuracy: 0.9286\n",
      "Epoch 20/25\n",
      "14/14 [==============================] - 16s 1s/step - loss: 0.1815 - accuracy: 0.9643 - val_loss: 0.2137 - val_accuracy: 0.9286\n",
      "Epoch 21/25\n",
      "14/14 [==============================] - 15s 1s/step - loss: 0.1375 - accuracy: 0.9732 - val_loss: 0.2256 - val_accuracy: 0.9286\n",
      "Epoch 22/25\n",
      "14/14 [==============================] - 15s 1s/step - loss: 0.1277 - accuracy: 0.9821 - val_loss: 0.1810 - val_accuracy: 0.9643\n",
      "Epoch 23/25\n",
      "14/14 [==============================] - 15s 1s/step - loss: 0.1665 - accuracy: 0.9375 - val_loss: 0.1819 - val_accuracy: 0.9643\n",
      "Epoch 24/25\n",
      "14/14 [==============================] - 15s 1s/step - loss: 0.1565 - accuracy: 0.9554 - val_loss: 0.1972 - val_accuracy: 0.9286\n",
      "Epoch 25/25\n",
      "14/14 [==============================] - 16s 1s/step - loss: 0.1897 - accuracy: 0.9375 - val_loss: 0.1768 - val_accuracy: 0.9643\n"
     ]
    }
   ],
   "source": [
    "print(\"[INFO] training head...\")\n",
    "H = model.fit_generator(\n",
    "        trainAug.flow(trainX, trainY, batch_size=BS),\n",
    "        steps_per_epoch=len(trainX) // BS,\n",
    "        validation_data=(testX, testY),\n",
    "        validation_steps=len(testX) // BS, epochs=25) #, initial_epoch=30)\n",
    "        #, initial_epoch=25)\n",
    "        #epochs=EPOCHS)"
   ]
  },
  {
   "cell_type": "code",
   "execution_count": 23,
   "metadata": {},
   "outputs": [
    {
     "name": "stdout",
     "output_type": "stream",
     "text": [
      "[INFO] saving COVID-19 detector model...\n"
     ]
    }
   ],
   "source": [
    "print(\"[INFO] saving COVID-19 detector model...\")\n",
    "model.save('covid19.model', save_format=\"h5\")"
   ]
  },
  {
   "cell_type": "code",
   "execution_count": 24,
   "metadata": {},
   "outputs": [
    {
     "data": {
      "text/plain": [
       "<matplotlib.legend.Legend at 0x7f15d466d050>"
      ]
     },
     "execution_count": 24,
     "metadata": {},
     "output_type": "execute_result"
    },
    {
     "data": {
      "image/png": "[encoded data removed]",
      "text/plain": [
       "<Figure size 432x288 with 1 Axes>"
      ]
     },
     "metadata": {},
     "output_type": "display_data"
    }
   ],
   "source": [
    "N = EPOCHS\n",
    "plt.style.use(\"ggplot\")\n",
    "plt.figure()\n",
    "plt.plot(np.arange(0, N), H.history[\"loss\"], label=\"train_loss\")\n",
    "plt.plot(np.arange(0, N), H.history[\"val_loss\"], label=\"val_loss\")\n",
    "plt.plot(np.arange(0, N), H.history[\"accuracy\"], label=\"train_acc\")\n",
    "plt.plot(np.arange(0, N), H.history[\"val_accuracy\"], label=\"val_acc\")\n",
    "plt.title(\"Training Loss and Accuracy on COVID-19 Dataset\")\n",
    "plt.xlabel(\"Epoch #\")\n",
    "plt.ylabel(\"Loss/Accuracy\")\n",
    "plt.legend(loc=\"lower left\")"
   ]
  },
  {
   "cell_type": "code",
   "execution_count": 25,
   "metadata": {},
   "outputs": [],
   "source": [
    "model_json = model.to_json()\n",
    "open('architecture.json', 'w').write(model_json)\n",
    "model.save_weights('weights.h5', overwrite=True)"
   ]
  },
  {
   "cell_type": "code",
   "execution_count": 26,
   "metadata": {},
   "outputs": [
    {
     "name": "stderr",
     "output_type": "stream",
     "text": [
      "/home/sarthak/anaconda3/lib/python3.7/site-packages/sklearn/externals/joblib/__init__.py:15: FutureWarning: sklearn.externals.joblib is deprecated in 0.21 and will be removed in 0.23. Please import this functionality directly from joblib, which can be installed with: pip install joblib. If this warning is raised when loading pickled models, you may need to re-serialize those models with scikit-learn 0.21+.\n",
      "  warnings.warn(msg, category=FutureWarning)\n"
     ]
    },
    {
     "data": {
      "text/plain": [
       "['history.pkl']"
      ]
     },
     "execution_count": 26,
     "metadata": {},
     "output_type": "execute_result"
    }
   ],
   "source": [
    "from sklearn.externals import joblib\n",
    "joblib.dump(H.history, 'history.pkl') "
   ]
  },
  {
   "cell_type": "code",
   "execution_count": null,
   "metadata": {},
   "outputs": [],
   "source": []
  }
 ],
 "metadata": {
  "kernelspec": {
   "display_name": "Python 3",
   "language": "python",
   "name": "python3"
  },
  "language_info": {
   "codemirror_mode": {
    "name": "ipython",
    "version": 3
   },
   "file_extension": ".py",
   "mimetype": "text/x-python",
   "name": "python",
   "nbconvert_exporter": "python",
   "pygments_lexer": "ipython3",
   "version": "3.7.6"
  }
 },
 "nbformat": 4,
 "nbformat_minor": 4
}
