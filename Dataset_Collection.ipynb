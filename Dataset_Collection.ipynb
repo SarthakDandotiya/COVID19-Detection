{
 "cells": [
  {
   "cell_type": "code",
   "execution_count": 4,
   "metadata": {},
   "outputs": [],
   "source": [
    "import pandas as pd\n",
    "import numpy as np\n",
    "import os, shutil"
   ]
  },
  {
   "cell_type": "code",
   "execution_count": 5,
   "metadata": {},
   "outputs": [],
   "source": [
    "metadata_path = './metadata.csv'\n",
    "\n",
    "df=pd.read_csv(metadata_path)\n",
    "\n",
    "#types we're interested in\n",
    "covid_patients=df['finding']=='COVID-19'\n",
    "CT=df['view']=='CT'\n",
    "PA=df['view']=='PA'\n",
    "\n",
    "# %%\n",
    "df[covid_patients & CT].shape\n",
    "df[covid_patients & PA].shape\n",
    "# %%\n",
    "PA_covid=df[covid_patients & PA]\n",
    "Others=df[~covid_patients & PA]\n",
    "covid_files=[files for files in PA_covid['filename']]\n",
    "other_files=[files for files in Others['filename']]"
   ]
  },
  {
   "cell_type": "code",
   "execution_count": 6,
   "metadata": {},
   "outputs": [],
   "source": [
    "#our test folder. manually included files via upload.\n",
    "test_files=[file for file in sorted(os.listdir('test'))]\n",
    "df_test=pd.DataFrame(test_files, columns=['filename'])"
   ]
  },
  {
   "cell_type": "code",
   "execution_count": 7,
   "metadata": {},
   "outputs": [
    {
     "name": "stdout",
     "output_type": "stream",
     "text": [
      "Number of images in Normal: 71 \n",
      "Number of images in Covid: 70\n"
     ]
    }
   ],
   "source": [
    "#Number of files\n",
    "path, dirs, files2 = os.walk(\"dataset/normal\").__next__()\n",
    "path, dirs, files1 = os.walk(\"dataset/covid\").__next__()\n",
    "print(\"Number of images in Normal: {}\".format(len(files2)),\"\\nNumber of images in Covid: {}\".format(len(files1)))"
   ]
  },
  {
   "cell_type": "code",
   "execution_count": null,
   "metadata": {},
   "outputs": [],
   "source": []
  }
 ],
 "metadata": {
  "kernelspec": {
   "display_name": "Python 3",
   "language": "python",
   "name": "python3"
  },
  "language_info": {
   "codemirror_mode": {
    "name": "ipython",
    "version": 3
   },
   "file_extension": ".py",
   "mimetype": "text/x-python",
   "name": "python",
   "nbconvert_exporter": "python",
   "pygments_lexer": "ipython3",
   "version": "3.7.6"
  }
 },
 "nbformat": 4,
 "nbformat_minor": 4
}
